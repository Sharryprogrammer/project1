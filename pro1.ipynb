{
 "cells": [
  {
   "cell_type": "code",
   "execution_count": 1,
   "metadata": {},
   "outputs": [
    {
     "name": "stdout",
     "output_type": "stream",
     "text": [
      "hello\n"
     ]
    }
   ],
   "source": [
    "print (\"hello\")\n"
   ]
  },
  {
   "cell_type": "code",
   "execution_count": 15,
   "metadata": {},
   "outputs": [
    {
     "name": "stdin",
     "output_type": "stream",
     "text": [
      "Enter a integer 7\n"
     ]
    },
    {
     "name": "stdout",
     "output_type": "stream",
     "text": [
      "7\n",
      "14\n",
      "21\n",
      "28\n",
      "35\n",
      "42\n",
      "49\n",
      "56\n",
      "63\n",
      "70\n"
     ]
    }
   ],
   "source": [
    " a = int(input(\"Enter a integer\"))\n",
    "    # similarly for float etc\n",
    "for i in range(0,10*a+1,a):\n",
    "    if i == 0:\n",
    "        continue\n",
    "    print(i)"
   ]
  },
  {
   "cell_type": "code",
   "execution_count": 18,
   "metadata": {},
   "outputs": [
    {
     "name": "stdin",
     "output_type": "stream",
     "text": [
      "Enter a word Good morning\n"
     ]
    },
    {
     "name": "stdout",
     "output_type": "stream",
     "text": [
      "Good morning\n",
      "gninrom dooG\n"
     ]
    }
   ],
   "source": [
    "a=input(\"Enter a word\")\n",
    "print(a)\n",
    "print(a[::-1])"
   ]
  },
  {
   "cell_type": "code",
   "execution_count": 6,
   "metadata": {},
   "outputs": [
    {
     "name": "stdout",
     "output_type": "stream",
     "text": [
      "7\n"
     ]
    }
   ],
   "source": [
    "a =6\n",
    "b=7\n",
    "if(a>b):\n",
    "\n",
    "    print(a)\n",
    "\n",
    "else:\n",
    "\n",
    "    print (b)\n"
   ]
  },
  {
   "cell_type": "code",
   "execution_count": 7,
   "metadata": {},
   "outputs": [
    {
     "name": "stdout",
     "output_type": "stream",
     "text": [
      "1\n",
      "3\n",
      "5\n"
     ]
    }
   ],
   "source": [
    "for i in range(1,11,2):\n",
    "    print(i)\n",
    "    if i==5:\n",
    "        break"
   ]
  },
  {
   "cell_type": "code",
   "execution_count": 8,
   "metadata": {},
   "outputs": [
    {
     "name": "stdout",
     "output_type": "stream",
     "text": [
      "1\n",
      "2\n",
      "3\n",
      "4\n"
     ]
    }
   ],
   "source": [
    "a=1\n",
    "while a<5:\n",
    "    print(a)\n",
    "    a+=1"
   ]
  },
  {
   "cell_type": "code",
   "execution_count": 9,
   "metadata": {},
   "outputs": [
    {
     "name": "stdout",
     "output_type": "stream",
     "text": [
      "3\n",
      "6\n",
      "9\n",
      "12\n",
      "15\n",
      "18\n",
      "21\n",
      "24\n",
      "27\n",
      "30\n"
     ]
    },
    {
     "name": "stderr",
     "output_type": "stream",
     "text": [
      "<>:2: SyntaxWarning: \"is not\" with a literal. Did you mean \"!=\"?\n",
      "<>:2: SyntaxWarning: \"is not\" with a literal. Did you mean \"!=\"?\n",
      "<ipython-input-9-aa02928ea878>:2: SyntaxWarning: \"is not\" with a literal. Did you mean \"!=\"?\n",
      "  while(a is not 11):\n"
     ]
    }
   ],
   "source": [
    "a=1\n",
    "while(a is not 11):\n",
    "    print(3*a)\n",
    "    a+=1"
   ]
  },
  {
   "cell_type": "code",
   "execution_count": 10,
   "metadata": {},
   "outputs": [
    {
     "name": "stdout",
     "output_type": "stream",
     "text": [
      "1\n",
      "2\n",
      "3\n",
      "4\n",
      "5\n",
      "6\n",
      "7\n",
      "8\n",
      "9\n",
      "10\n"
     ]
    }
   ],
   "source": [
    "for i in range(1,11,1):\n",
    "    print(i)\n",
    "    if i==5:\n",
    "        continue"
   ]
  },
  {
   "cell_type": "code",
   "execution_count": 27,
   "metadata": {},
   "outputs": [
    {
     "name": "stdout",
     "output_type": "stream",
     "text": [
      "1\n",
      "2\n",
      "3\n",
      "4\n",
      "5\n",
      "6\n",
      "7\n",
      "8\n",
      "9\n",
      "10\n",
      "hello\n"
     ]
    }
   ],
   "source": [
    "for i in range(1,11,1):\n",
    "    print(i)\n",
    "else:\n",
    "    print(\"hello\")"
   ]
  },
  {
   "cell_type": "code",
   "execution_count": 29,
   "metadata": {},
   "outputs": [
    {
     "name": "stdout",
     "output_type": "stream",
     "text": [
      "0.25\n",
      "1\n",
      "5\n",
      "-3\n",
      "4\n",
      "1\n"
     ]
    }
   ],
   "source": [
    "a=1\n",
    "b=4\n",
    "c=a/b\n",
    "print (c)\n",
    "c=a%b\n",
    "print (c)\n",
    "c=a+b\n",
    "print (c)\n",
    "c=a-b\n",
    "print (c)\n",
    "c=a*b\n",
    "print (c)\n",
    "c=a**b\n",
    "print (c)"
   ]
  },
  {
   "cell_type": "code",
   "execution_count": 31,
   "metadata": {},
   "outputs": [
    {
     "name": "stdout",
     "output_type": "stream",
     "text": [
      "0\n",
      "1\n",
      "5\n",
      "-3\n",
      "4\n",
      "1.0\n"
     ]
    }
   ],
   "source": [
    "a=1\n",
    "b=4\n",
    "c=a/b\n",
    "print (int(c))\n",
    "c=a%b\n",
    "print (int (c))\n",
    "c=a+b\n",
    "print (int(c))\n",
    "c=a-b\n",
    "print (int(c))\n",
    "c=a*b\n",
    "print (int(c))\n",
    "c=a**b\n",
    "print (float(c))"
   ]
  },
  {
   "cell_type": "code",
   "execution_count": 34,
   "metadata": {},
   "outputs": [
    {
     "name": "stdout",
     "output_type": "stream",
     "text": [
      "False\n",
      "2264237959536\n"
     ]
    }
   ],
   "source": [
    "a=[1,2,\"3\"]\n",
    "b=3\n",
    "print(b in a)\n",
    "print(id(b))"
   ]
  },
  {
   "cell_type": "code",
   "execution_count": 35,
   "metadata": {},
   "outputs": [
    {
     "name": "stdout",
     "output_type": "stream",
     "text": [
      "['3', 2, 1]\n",
      "2\n",
      "3\n",
      "[1, 400, '3']\n"
     ]
    }
   ],
   "source": [
    "# slicing a[index:jump:order]\n",
    "print(a[::-1])\n",
    "# index position\n",
    "print(a[1])\n",
    "# last item\n",
    "print(a[-1])\n",
    "# list is changeable immutable\n",
    "a[1]=400\n",
    "print(a)"
   ]
  },
  {
   "cell_type": "code",
   "execution_count": 38,
   "metadata": {},
   "outputs": [
    {
     "name": "stdout",
     "output_type": "stream",
     "text": [
      "(1, 2, 3, 'ee')\n",
      "2264311733280\n"
     ]
    }
   ],
   "source": [
    "t=(1,2,3,\"ee\")\n",
    "print(t)\n",
    "print(id(t))"
   ]
  },
  {
   "cell_type": "code",
   "execution_count": 39,
   "metadata": {},
   "outputs": [
    {
     "name": "stdout",
     "output_type": "stream",
     "text": [
      "ee\n",
      "(1, 400, '3')\n",
      "<class 'tuple'>\n"
     ]
    }
   ],
   "source": [
    "# getting any element\n",
    "print(t[-1])\n",
    "# list to tuple\n",
    "k=tuple(a)\n",
    "print(k)\n",
    "print(type(k))"
   ]
  },
  {
   "cell_type": "code",
   "execution_count": 41,
   "metadata": {},
   "outputs": [
    {
     "name": "stdout",
     "output_type": "stream",
     "text": [
      "{0, 1, 2, 'ad'}\n",
      "{0, 1, 'ad'}\n"
     ]
    }
   ],
   "source": [
    "#set\n",
    "s={1,2,2,0,\"ad\"}\n",
    "print(s)\n",
    "# but changeble\n",
    "s.remove(2)\n",
    "print(s)"
   ]
  },
  {
   "cell_type": "code",
   "execution_count": 42,
   "metadata": {},
   "outputs": [
    {
     "name": "stdout",
     "output_type": "stream",
     "text": [
      "{1: 'a', 2: 'b', 3: ['c', 'd']}\n",
      "<class 'dict'>\n"
     ]
    }
   ],
   "source": [
    "d={ 1 : \"a\" ,\n",
    "    2 : \"b\",\n",
    "    3 : [\"c\",\"d\"],\n",
    "    }\n",
    "print(d)\n",
    "print(type(d))"
   ]
  },
  {
   "cell_type": "code",
   "execution_count": 43,
   "metadata": {},
   "outputs": [
    {
     "name": "stdout",
     "output_type": "stream",
     "text": [
      "['c', 'd']\n",
      "c\n"
     ]
    }
   ],
   "source": [
    "print(d[3])\n",
    "# access list in list\n",
    "print(d[3][0])"
   ]
  },
  {
   "cell_type": "code",
   "execution_count": 45,
   "metadata": {},
   "outputs": [
    {
     "name": "stdout",
     "output_type": "stream",
     "text": [
      "k\n"
     ]
    }
   ],
   "source": [
    "lpa=[\"ra\",\"k\", \"p\"]\n",
    "for i in lpa:\n",
    "    if \"k\" in i:\n",
    "        print(i)"
   ]
  },
  {
   "cell_type": "code",
   "execution_count": 49,
   "metadata": {},
   "outputs": [
    {
     "name": "stdout",
     "output_type": "stream",
     "text": [
      "sharanya\n",
      "bajpai\n"
     ]
    }
   ],
   "source": [
    "# functions\n",
    "def wel(n1,n2) :\n",
    "      print( n1 + n2 )\n",
    "      return \"baj\"+\"pai\"\n",
    "\n",
    "print(wel(\"shar\",\"anya\"))"
   ]
  },
  {
   "cell_type": "code",
   "execution_count": 52,
   "metadata": {},
   "outputs": [
    {
     "name": "stdout",
     "output_type": "stream",
     "text": [
      "79\n",
      "{1, 2, 4}\n"
     ]
    }
   ],
   "source": [
    "def wel(n1,n2=78) :  \n",
    "      print( n1 + n2 )\n",
    "      return {1,2,4}\n",
    "\n",
    "\n",
    "print(wel(1))"
   ]
  },
  {
   "cell_type": "code",
   "execution_count": 54,
   "metadata": {},
   "outputs": [
    {
     "name": "stdout",
     "output_type": "stream",
     "text": [
      "4 * 1 end raer\n"
     ]
    }
   ],
   "source": [
    "def wel(n1,n2=78) :\n",
    "      print( n1,n2,sep=\" * \",end=\" end \" )\n",
    "      return \"ra\"+\"er\"\n",
    "\n",
    "\n",
    "\n",
    "print(wel(n2=1,n1=4))"
   ]
  },
  {
   "cell_type": "code",
   "execution_count": 55,
   "metadata": {},
   "outputs": [
    {
     "name": "stdout",
     "output_type": "stream",
     "text": [
      "9\n",
      "5\n",
      "25\n",
      "raer\n"
     ]
    }
   ],
   "source": [
    "def wel(*n1) :\n",
    "      print( n1[-1] )\n",
    "      print(len(n1))\n",
    "      # s=0\n",
    "      # for i in range(len(n1)):\n",
    "      #     s=s+n1[i]\n",
    "      # print(s)\n",
    "      \"\"\"or\"\"\"\n",
    "      # print(sum(n1))\n",
    "      \"\"\"or\"\"\"\n",
    "      s=0\n",
    "      for i in n1:\n",
    "          s+=i\n",
    "      print(s)\n",
    "      return \"ra\"+\"er\"\n",
    "\n",
    "\n",
    "\n",
    "print(wel(1,2,5,8,9))"
   ]
  },
  {
   "cell_type": "code",
   "execution_count": null,
   "metadata": {},
   "outputs": [],
   "source": []
  }
 ],
 "metadata": {
  "kernelspec": {
   "display_name": "Python 3",
   "language": "python",
   "name": "python3"
  },
  "language_info": {
   "codemirror_mode": {
    "name": "ipython",
    "version": 3
   },
   "file_extension": ".py",
   "mimetype": "text/x-python",
   "name": "python",
   "nbconvert_exporter": "python",
   "pygments_lexer": "ipython3",
   "version": "3.9.0"
  }
 },
 "nbformat": 4,
 "nbformat_minor": 4
}
